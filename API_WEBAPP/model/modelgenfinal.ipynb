{
 "cells": [
  {
   "cell_type": "code",
   "execution_count": 1,
   "id": "fe387d44-3b4d-43a5-a7bf-a5bd5a0c2f9f",
   "metadata": {},
   "outputs": [],
   "source": [
    "import pandas as pd\n",
    "import numpy as np\n",
    "import random\n",
    "import hashlib\n",
    "import string"
   ]
  },
  {
   "cell_type": "code",
   "execution_count": 2,
   "id": "a950eda6-016d-46fa-ab23-2cc0c4de9431",
   "metadata": {},
   "outputs": [],
   "source": [
    "np.random.seed(42)\n",
    "random.seed(42)\n",
    "\n",
    "N = 50000  # total rows"
   ]
  },
  {
   "cell_type": "code",
   "execution_count": 20,
   "id": "a6eaa9c9-b906-4ac5-9857-5096c720ab39",
   "metadata": {},
   "outputs": [],
   "source": [
    "def random_sha256():\n",
    "    return hashlib.sha256(''.join(random.choices(string.ascii_letters + string.digits, k=20)).encode()).hexdigest()\n",
    "\n",
    "def random_permissions_list():\n",
    "    perms = [\"INTERNET\", \"READ_SMS\", \"WRITE_EXTERNAL_STORAGE\", \"ACCESS_FINE_LOCATION\",\n",
    "             \"CALL_PHONE\", \"READ_CONTACTS\", \"CAMERA\", \"RECORD_AUDIO\", \"SEND_SMS\"]\n",
    "    return ','.join(random.sample(perms, random.randint(1,5)))\n",
    "\n",
    "def random_app_label():\n",
    "    return ''.join(random.choices(string.ascii_letters + string.digits, k=random.randint(5,12)))\n",
    "\n",
    "def random_icon_hash():\n",
    "    return hashlib.md5(''.join(random.choices(string.ascii_letters + string.digits, k=10)).encode()).hexdigest()\n",
    "\n",
    "def random_cert_fingerprint():\n",
    "    return hashlib.sha1(''.join(random.choices(string.ascii_letters + string.digits, k=15)).encode()).hexdigest()\n",
    "\n",
    "def random_version_code():\n",
    "    return random.randint(1, 200)"
   ]
  },
  {
   "cell_type": "code",
   "execution_count": 21,
   "id": "393103d4-3305-4f01-b58d-95f952d35f0a",
   "metadata": {},
   "outputs": [],
   "source": [
    "num_real = N // 2\n",
    "num_fake = N - num_real\n",
    "labels = [0]*num_real + [1]*num_fake\n",
    "random.shuffle(labels)"
   ]
  },
  {
   "cell_type": "code",
   "execution_count": 35,
   "id": "1462ad2a-0801-4414-9d09-68fd6afcffef",
   "metadata": {},
   "outputs": [],
   "source": [
    "rows = []\n",
    "\n",
    "for label in labels:\n",
    "    # Continuous features with overlap\n",
    "    permissions_score = np.random.normal(10 + label*2, 5)  # overlap\n",
    "    entropy = np.random.normal(4.5 + label*0.8, 1.5)       # increased std for overlap\n",
    "    \n",
    "    # Correlated suspicious strings\n",
    "    base_suspicious = 4 + int(entropy-4) + np.random.randint(0,4) if label==0 else 6 + int(entropy-4) + np.random.randint(0,6)\n",
    "    suspicious_strings = np.random.poisson(base_suspicious)\n",
    "    \n",
    "    # Discrete features\n",
    "    cert_mismatch = np.random.choice([0,1], p=[0.85 - 0.3*label, 0.15 + 0.3*label])\n",
    "    vt_ratio = np.random.randint(0 + label*5, 5 + label*10)\n",
    "    icon_similarity = np.random.normal(0.85 - label*0.25, 0.15)\n",
    "    ip_count = np.random.poisson(1 + label*2)\n",
    "    url_count = np.random.poisson(1 + label*2)\n",
    "    \n",
    "    # Dangerous permissions probability\n",
    "    probs_dp = np.array([0.7-0.3*label, 0.2, 0.1+0.2*label])\n",
    "    probs_dp = probs_dp / probs_dp.sum()\n",
    "    dangerous_permissions = np.random.choice([0,1,2], p=probs_dp)\n",
    "    \n",
    "    # Cert trusted match probability\n",
    "    probs_ctm = np.array([0.9-0.5*label, 0.1+0.5*label])\n",
    "    probs_ctm = probs_ctm / probs_ctm.sum()\n",
    "    cert_trusted_match = np.random.choice([0,1], p=probs_ctm)\n",
    "    \n",
    "    probability_fake = np.random.uniform(0 + label*0.4, 0.6 + label*0.4)\n",
    "    \n",
    "    # Clip / realistic limits\n",
    "    permissions_score = int(np.clip(permissions_score, 0, 30))\n",
    "    entropy = round(np.clip(entropy, 2.5, 8.0),2)\n",
    "    icon_similarity = round(np.clip(icon_similarity, 0.0, 1.0),2)\n",
    "    ip_count = int(np.clip(ip_count, 0, 10))\n",
    "    url_count = int(np.clip(url_count, 0, 10))\n",
    "    suspicious_strings = int(np.clip(suspicious_strings, 0, 50))\n",
    "    \n",
    "    row = {\n",
    "        \"permissions_score\": permissions_score,\n",
    "        \"entropy\": entropy,\n",
    "        \"cert_mismatch\": int(cert_mismatch),\n",
    "        \"suspicious_strings\": suspicious_strings,\n",
    "        \"vt_ratio\": vt_ratio,\n",
    "        \"icon_similarity\": icon_similarity,\n",
    "        \"ip_count\": ip_count,\n",
    "        \"url_count\": url_count,\n",
    "        \"dangerous_permissions\": int(dangerous_permissions),\n",
    "        \"permissions_list\": random_permissions_list(),\n",
    "        \"cert_fingerprint\": random_cert_fingerprint(),\n",
    "        \"cert_trusted_match\": int(cert_trusted_match),\n",
    "        \"icon_hash\": random_icon_hash(),\n",
    "        \"app_label\": random_app_label(),\n",
    "        \"version_code\": random_version_code(),\n",
    "        \"sha256\": random_sha256(),\n",
    "        \"probability_fake\": round(probability_fake,2),\n",
    "        \"label\": label\n",
    "    }\n",
    "    rows.append(row)"
   ]
  },
  {
   "cell_type": "code",
   "execution_count": 49,
   "id": "f7bd2ff6-ebe3-46b9-9460-b402d0fa5843",
   "metadata": {},
   "outputs": [
    {
     "name": "stdout",
     "output_type": "stream",
     "text": [
      "finalmodel.csv\n"
     ]
    }
   ],
   "source": [
    "df = pd.DataFrame(rows)\n",
    "\n",
    "# ------------------------\n",
    "# Inject 10-20% noise in key discrete features\n",
    "# ------------------------\n",
    "noise_cols = ['cert_mismatch','dangerous_permissions','cert_trusted_match']\n",
    "for col in noise_cols:\n",
    "    mask = np.random.rand(len(df)) < 0.15\n",
    "    if df[col].dtype in [int,float]:\n",
    "        df.loc[mask, col] = np.random.randint(df[col].min(), df[col].max()+1, mask.sum())\n",
    "    else:\n",
    "        df.loc[mask, col] = df[col].sample(mask.sum(), replace=True).values\n",
    "\n",
    "# ------------------------\n",
    "# Save CSV\n",
    "# ------------------------\n",
    "df.to_csv(\"finalmodel1.csv\", index=False)\n",
    "print(\"finalmodel.csv\")"
   ]
  },
  {
   "cell_type": "code",
   "execution_count": 5,
   "id": "79d9c3f3-3c5d-4847-a07c-4edaafd63fea",
   "metadata": {},
   "outputs": [],
   "source": [
    "import joblib\n",
    "import pandas as pd\n",
    "import numpy as np\n",
    "from sklearn.ensemble import RandomForestClassifier\n",
    "from sklearn.model_selection import train_test_split, cross_val_score\n",
    "from sklearn.preprocessing import StandardScaler\n",
    "from sklearn.metrics import classification_report\n",
    "import shap\n",
    "import os"
   ]
  },
  {
   "cell_type": "code",
   "execution_count": 6,
   "id": "2dab30fb-0ba9-4fcc-8ee5-77d69e18f4e5",
   "metadata": {},
   "outputs": [],
   "source": [
    "data = pd.read_csv(\"finalmodel1.csv\")"
   ]
  },
  {
   "cell_type": "code",
   "execution_count": 7,
   "id": "4165fcd4-c95d-444d-80e9-80d0f9e9c3ec",
   "metadata": {},
   "outputs": [],
   "source": [
    "drop_cols = [\"vt_ratio\", \"probability_fake\", \"sha256\", \"cert_fingerprint\", \"icon_hash\", \"app_label\"]\n",
    "data = data.drop(columns=[c for c in drop_cols if c in data.columns])"
   ]
  },
  {
   "cell_type": "code",
   "execution_count": 8,
   "id": "fca9c993-ac43-43c6-9f1e-4ce79211c328",
   "metadata": {},
   "outputs": [],
   "source": [
    "def process_permissions(perm_str):\n",
    "    if not isinstance(perm_str,str) or perm_str.strip()==\"\":\n",
    "        return [],0,0,0\n",
    "    perms = [p.strip() for p in perm_str.split(\",\") if p.strip()]\n",
    "    dangerous_keywords = [\"READ_SMS\",\"SEND_SMS\",\"RECORD_AUDIO\",\"READ_CONTACTS\",\n",
    "                          \"WRITE_CONTACTS\",\"READ_CALL_LOG\",\"WRITE_CALL_LOG\",\n",
    "                          \"ACCESS_FINE_LOCATION\",\"READ_PHONE_STATE\"]\n",
    "    dangerous_count = sum(1 for p in perms if any(k in p for k in dangerous_keywords))\n",
    "    normal_count = len(perms) - dangerous_count\n",
    "    custom_count = sum(1 for p in perms if p.startswith(\"com.\") or p.startswith(\"org.\"))\n",
    "    return perms, dangerous_count, normal_count, custom_count\n",
    "\n",
    "perm_info = data['permissions_list'].fillna(\"\").apply(process_permissions)\n",
    "data['perm_dangerous_count'] = perm_info.apply(lambda x:x[1])\n",
    "data['perm_normal_count'] = perm_info.apply(lambda x:x[2])\n",
    "data['perm_custom_count'] = perm_info.apply(lambda x:x[3])\n",
    "\n",
    "# ------------------------\n",
    "# Binning / Bucketing\n",
    "# ------------------------\n",
    "data['perm_dangerous_count'] = data['perm_dangerous_count'].apply(lambda x: 0 if x==0 else (1 if x==1 else 2))\n",
    "data['perm_normal_count'] = data['perm_normal_count'].apply(lambda x: 0 if x<=2 else (1 if x<=5 else 2))\n",
    "data['perm_custom_count'] = data['perm_custom_count'].apply(lambda x: 0 if x==0 else 1)\n",
    "data['dangerous_permissions'] = data['dangerous_permissions'].apply(lambda x: 0 if x==0 else (1 if x==1 else 2))\n",
    "\n",
    "# ------------------------\n",
    "# Noise Injection (15% flip for high-leakage features)\n",
    "# ------------------------\n",
    "np.random.seed(42)\n",
    "for col, max_val in zip(['perm_dangerous_count','perm_custom_count','cert_trusted_match','dangerous_permissions'], [2,1,1,2]):\n",
    "    mask = np.random.rand(len(data)) < 0.15  # 15% randomly flip\n",
    "    data.loc[mask, col] = np.random.randint(0, max_val+1, mask.sum())\n",
    "\n",
    "# ------------------------\n",
    "# Numeric Cleanup\n",
    "# ------------------------\n",
    "num_cols = ['permissions_score','entropy','cert_mismatch','suspicious_strings',\n",
    "            'icon_similarity','ip_count','url_count',\n",
    "            'dangerous_permissions','perm_dangerous_count','perm_normal_count','perm_custom_count']\n",
    "for col in num_cols:\n",
    "    data[col] = pd.to_numeric(data[col], errors=\"coerce\").fillna(0)"
   ]
  },
  {
   "cell_type": "code",
   "execution_count": 9,
   "id": "6fada1e8-6d16-4646-8984-45312b55fb16",
   "metadata": {},
   "outputs": [],
   "source": [
    "features = ['permissions_score','entropy','cert_mismatch','suspicious_strings',\n",
    "            'icon_similarity','ip_count','url_count',\n",
    "            'dangerous_permissions','cert_trusted_match',\n",
    "            'perm_dangerous_count','perm_normal_count','perm_custom_count']\n",
    "\n",
    "X = data[features]\n",
    "y = data['label']"
   ]
  },
  {
   "cell_type": "code",
   "execution_count": 10,
   "id": "b201da92-a98c-45b2-9f57-8f57860e2de1",
   "metadata": {},
   "outputs": [],
   "source": [
    "scaler = StandardScaler()\n",
    "X_scaled = scaler.fit_transform(X)\n",
    "\n",
    "# ------------------------\n",
    "# Train/Test Split\n",
    "# ------------------------\n",
    "X_train, X_test, y_train, y_test = train_test_split(\n",
    "    X_scaled, y, test_size=0.2, random_state=42, stratify=y\n",
    ")"
   ]
  },
  {
   "cell_type": "code",
   "execution_count": 11,
   "id": "69f700fb-0155-4e3a-b877-59d3ed44dede",
   "metadata": {},
   "outputs": [],
   "source": [
    "clf = RandomForestClassifier(\n",
    "    n_estimators=200,\n",
    "    max_depth=12,\n",
    "    min_samples_split=20,\n",
    "    min_samples_leaf=10,\n",
    "    class_weight=\"balanced\",\n",
    "    random_state=42,\n",
    "    n_jobs=-1\n",
    ")\n",
    "clf.fit(X_train, y_train)\n",
    "y_pred = clf.predict(X_test)"
   ]
  },
  {
   "cell_type": "code",
   "execution_count": 12,
   "id": "a531c3ea-fc27-41a9-80ea-6a4d2153848c",
   "metadata": {},
   "outputs": [
    {
     "name": "stdout",
     "output_type": "stream",
     "text": [
      "📊 Classification Report (Hold-out Test):\n",
      "              precision    recall  f1-score   support\n",
      "\n",
      "           0       0.94      0.93      0.94      5000\n",
      "           1       0.93      0.94      0.94      5000\n",
      "\n",
      "    accuracy                           0.94     10000\n",
      "   macro avg       0.94      0.94      0.94     10000\n",
      "weighted avg       0.94      0.94      0.94     10000\n",
      "\n"
     ]
    }
   ],
   "source": [
    "print(\"📊 Classification Report (Hold-out Test):\")\n",
    "print(classification_report(y_test, y_pred))"
   ]
  },
  {
   "cell_type": "code",
   "execution_count": 13,
   "id": "7a877927-976c-4036-a4f3-7d2509492ad9",
   "metadata": {},
   "outputs": [
    {
     "name": "stdout",
     "output_type": "stream",
     "text": [
      "\n",
      "✅ CV Accuracy: 0.934 ± 0.004\n"
     ]
    }
   ],
   "source": [
    "cv_scores = cross_val_score(clf, X_scaled, y, cv=5, scoring='accuracy')\n",
    "print(f\"\\n✅ CV Accuracy: {cv_scores.mean():.3f} ± {cv_scores.std():.3f}\")"
   ]
  },
  {
   "cell_type": "code",
   "execution_count": 14,
   "id": "bd184b21-97b8-4f40-bbc4-0db000204a5f",
   "metadata": {},
   "outputs": [
    {
     "name": "stdout",
     "output_type": "stream",
     "text": [
      "Label distribution:\n",
      "label\n",
      "1    25000\n",
      "0    25000\n",
      "Name: count, dtype: int64\n"
     ]
    }
   ],
   "source": [
    "# Count unique labels\n",
    "print(\"Label distribution:\")\n",
    "print(data['label'].value_counts())"
   ]
  },
  {
   "cell_type": "code",
   "execution_count": 15,
   "id": "c3052f15-2014-4fb4-ba12-8479359875b3",
   "metadata": {},
   "outputs": [
    {
     "name": "stdout",
     "output_type": "stream",
     "text": [
      "🔎 Checking each feature individually...\n",
      "\n",
      "permissions_score              | Unique: 31    | Single-feature Accuracy: 0.576\n",
      "entropy                        | Unique: 551   | Single-feature Accuracy: 0.608\n",
      "cert_mismatch                  | Unique: 2     | Single-feature Accuracy: 0.629\n",
      "suspicious_strings             | Unique: 28    | Single-feature Accuracy: 0.706\n",
      "icon_similarity                | Unique: 99    | Single-feature Accuracy: 0.204\n",
      "ip_count                       | Unique: 11    | Single-feature Accuracy: 0.751\n",
      "url_count                      | Unique: 11    | Single-feature Accuracy: 0.748\n",
      "dangerous_permissions          | Unique: 3     | Single-feature Accuracy: 0.594\n",
      "cert_trusted_match             | Unique: 2     | Single-feature Accuracy: 0.679\n",
      "perm_dangerous_count           | Unique: 3     | Single-feature Accuracy: 0.500\n",
      "perm_normal_count              | Unique: 2     | Single-feature Accuracy: 0.498\n",
      "perm_custom_count              | Unique: 2     | Single-feature Accuracy: 0.497\n"
     ]
    }
   ],
   "source": [
    "import numpy as np\n",
    "from sklearn.metrics import accuracy_score\n",
    "\n",
    "print(\"🔎 Checking each feature individually...\\n\")\n",
    "\n",
    "for col in features:\n",
    "    # Simple threshold-based classifier\n",
    "    preds = (data[col] > data[col].median()).astype(int)\n",
    "    acc = accuracy_score(y, preds)\n",
    "    unique_vals = data[col].nunique()\n",
    "    print(f\"{col:<30} | Unique: {unique_vals:<5} | Single-feature Accuracy: {acc:.3f}\")\n",
    "\n",
    "    if acc > 0.95:\n",
    "        print(f\"⚠️  Potential leakage: {col} alone gives {acc:.3f} accuracy!\\n\")\n"
   ]
  },
  {
   "cell_type": "code",
   "execution_count": 16,
   "id": "465bc6ef-50ce-4df8-912e-a0601219dd2a",
   "metadata": {},
   "outputs": [],
   "source": [
    "import shap\n",
    "explainer = shap.TreeExplainer(clf)\n",
    "shap_values = explainer.shap_values(X_scaled)"
   ]
  },
  {
   "cell_type": "code",
   "execution_count": 28,
   "id": "4ef99998-4766-4e2d-af14-e6c059e37bc4",
   "metadata": {},
   "outputs": [
    {
     "data": {
      "text/plain": [
       "['datamodel.pkl']"
      ]
     },
     "execution_count": 28,
     "metadata": {},
     "output_type": "execute_result"
    }
   ],
   "source": [
    "MODEL_FILE = \"datamodel.pkl\"\n",
    "\n",
    "joblib.dump({\n",
    "    'model': clf,\n",
    "    'scaler': scaler,\n",
    "    'features': features\n",
    "}, MODEL_FILE)"
   ]
  },
  {
   "cell_type": "code",
   "execution_count": 29,
   "id": "e361c0fb-17b9-409d-b344-d7af295bf10c",
   "metadata": {},
   "outputs": [],
   "source": [
    "MODEL_FILE = \"datamodel.pkl\"\n",
    "ml_bundle = joblib.load(MODEL_FILE)"
   ]
  },
  {
   "cell_type": "code",
   "execution_count": 32,
   "id": "ce284b15-021b-4c31-b5be-be53690f8d03",
   "metadata": {},
   "outputs": [],
   "source": [
    "clf = ml_bundle['model']\n",
    "scaler = ml_bundle['scaler']\n",
    "features = ml_bundle['features']"
   ]
  },
  {
   "cell_type": "code",
   "execution_count": 36,
   "id": "59b95225-4964-4d3d-814f-3dac23ebdb35",
   "metadata": {},
   "outputs": [],
   "source": [
    "dummy_data = pd.DataFrame({\n",
    "    'permissions_score': [5, 12, 0],\n",
    "    'entropy': [3.5, 7.2, 1.1],\n",
    "    'cert_mismatch': [0, 1, 0],\n",
    "    'suspicious_strings': [2, 8, 0],\n",
    "    'icon_similarity': [0.9, 0.1, 0.5],\n",
    "    'vt_ratio': [0.0, 0.8, 0.2],\n",
    "    'perm_dangerous_count': [0, 2, 1],\n",
    "    'perm_normal_count': [1, 2, 0],\n",
    "    'ip_count':[0,1,0],\n",
    "    'url_count':[0,2,0],\n",
    "    'dangerous_permissions':[0,1,0],\n",
    "    'cert_trusted_match':[1,0,1],\n",
    "    'perm_custom_count':[0,1,0]\n",
    "})\n"
   ]
  },
  {
   "cell_type": "code",
   "execution_count": 37,
   "id": "48f80bc8-1758-4292-a75e-1268f8443c2a",
   "metadata": {},
   "outputs": [],
   "source": [
    "X_dummy_scaled = scaler.transform(dummy_data[features])"
   ]
  },
  {
   "cell_type": "code",
   "execution_count": 38,
   "id": "8a7e388e-9f91-4d75-9b3b-42041228b801",
   "metadata": {},
   "outputs": [
    {
     "name": "stdout",
     "output_type": "stream",
     "text": [
      "Predictions: [0 1 0]\n",
      "Prediction probabilities:\n",
      " [[0.99473925 0.00526075]\n",
      " [0.11660188 0.88339812]\n",
      " [0.66971512 0.33028488]]\n"
     ]
    }
   ],
   "source": [
    "preds = clf.predict(X_dummy_scaled)\n",
    "probs = clf.predict_proba(X_dummy_scaled)\n",
    "\n",
    "print(\"Predictions:\", preds)\n",
    "print(\"Prediction probabilities:\\n\", probs)"
   ]
  },
  {
   "cell_type": "code",
   "execution_count": 47,
   "id": "34dd7412-7a95-48a3-b78c-9cb38f53f21c",
   "metadata": {},
   "outputs": [],
   "source": [
    "dummy_apks = [\n",
    "    {'permissions_score': 3, 'entropy': 2.1, 'cert_mismatch': 0, 'suspicious_strings': 1,\n",
    "     'icon_similarity': 0.8, 'vt_ratio': 0.0, 'perm_dangerous_count': 0, 'perm_normal_count': 0,\n",
    "     'ip_count':0, 'url_count':0, 'dangerous_permissions':0, 'cert_trusted_match':1, 'perm_custom_count':0},\n",
    "\n",
    "    {'permissions_score': 15, 'entropy': 8.3, 'cert_mismatch': 1, 'suspicious_strings': 12,\n",
    "     'icon_similarity': 0.2, 'vt_ratio': 0.9, 'perm_dangerous_count': 3, 'perm_normal_count': 2,\n",
    "     'ip_count':2, 'url_count':3, 'dangerous_permissions':1, 'cert_trusted_match':0, 'perm_custom_count':1},\n",
    "\n",
    "    {'permissions_score': 0, 'entropy': 1.0, 'cert_mismatch': 0, 'suspicious_strings': 0,\n",
    "     'icon_similarity': 0.5, 'vt_ratio': 0.1, 'perm_dangerous_count': 0, 'perm_normal_count': 0,\n",
    "     'ip_count':0, 'url_count':0, 'dangerous_permissions':0, 'cert_trusted_match':1, 'perm_custom_count':0},\n",
    "\n",
    "    {'permissions_score': 8, 'entropy': 4.5, 'cert_mismatch': 0, 'suspicious_strings': 5,\n",
    "     'icon_similarity': 0.6, 'vt_ratio': 0.3, 'perm_dangerous_count': 1, 'perm_normal_count': 1,\n",
    "     'ip_count':1, 'url_count':1, 'dangerous_permissions':0, 'cert_trusted_match':1, 'perm_custom_count':0},\n",
    "\n",
    "    {'permissions_score': 20, 'entropy': 9.0, 'cert_mismatch': 1, 'suspicious_strings': 15,\n",
    "     'icon_similarity': 0.1, 'vt_ratio': 1.0, 'perm_dangerous_count': 4, 'perm_normal_count': 3,\n",
    "     'ip_count':3, 'url_count':4, 'dangerous_permissions':1, 'cert_trusted_match':0, 'perm_custom_count':2},\n",
    "\n",
    "    {'permissions_score': 2, 'entropy': 2.5, 'cert_mismatch': 0, 'suspicious_strings': 0,\n",
    "     'icon_similarity': 0.7, 'vt_ratio': 0.0, 'perm_dangerous_count': 0, 'perm_normal_count': 1,\n",
    "     'ip_count':0, 'url_count':0, 'dangerous_permissions':0, 'cert_trusted_match':1, 'perm_custom_count':0},\n",
    "\n",
    "    {'permissions_score': 10, 'entropy': 6.5, 'cert_mismatch': 1, 'suspicious_strings': 10,\n",
    "     'icon_similarity': 0.3, 'vt_ratio': 0.7, 'perm_dangerous_count': 2, 'perm_normal_count': 2,\n",
    "     'ip_count':2, 'url_count':2, 'dangerous_permissions':1, 'cert_trusted_match':0, 'perm_custom_count':1},\n",
    "\n",
    "    {'permissions_score': 1, 'entropy': 1.5, 'cert_mismatch': 0, 'suspicious_strings': 0,\n",
    "     'icon_similarity': 0.9, 'vt_ratio': 0.1, 'perm_dangerous_count': 0, 'perm_normal_count': 0,\n",
    "     'ip_count':0, 'url_count':0, 'dangerous_permissions':0, 'cert_trusted_match':1, 'perm_custom_count':0},\n",
    "\n",
    "    {'permissions_score': 18, 'entropy': 8.0, 'cert_mismatch': 1, 'suspicious_strings': 14,\n",
    "     'icon_similarity': 0.2, 'vt_ratio': 0.9, 'perm_dangerous_count': 3, 'perm_normal_count': 2,\n",
    "     'ip_count':3, 'url_count':3, 'dangerous_permissions':1, 'cert_trusted_match':0, 'perm_custom_count':2},\n",
    "\n",
    "    {'permissions_score': 5, 'entropy': 3.0, 'cert_mismatch': 0, 'suspicious_strings': 1,\n",
    "     'icon_similarity': 0.8, 'vt_ratio': 0.2, 'perm_dangerous_count': 1, 'perm_normal_count': 1,\n",
    "     'ip_count':1, 'url_count':1, 'dangerous_permissions':0, 'cert_trusted_match':1, 'perm_custom_count':0}\n",
    "]\n"
   ]
  },
  {
   "cell_type": "code",
   "execution_count": 48,
   "id": "cfd404ce-ee48-45cd-bdbb-b3741ccef76a",
   "metadata": {},
   "outputs": [],
   "source": [
    "explainer = shap.TreeExplainer(clf)"
   ]
  },
  {
   "cell_type": "code",
   "execution_count": 49,
   "id": "dbba727c-6dc1-43fc-bba1-c1ce9a75b212",
   "metadata": {},
   "outputs": [
    {
     "name": "stdout",
     "output_type": "stream",
     "text": [
      "\n",
      "--- Dummy APK 1 ---\n",
      "Probability Fake: 1.61%\n",
      "Explanations: ['High permissions_score contributes to fake prediction', 'High cert_mismatch contributes to fake prediction', 'High icon_similarity contributes to fake prediction', 'High url_count contributes to fake prediction', 'High cert_trusted_match contributes to fake prediction', 'High perm_normal_count contributes to fake prediction']\n",
      "Recommendation: Likely safe, but exercise caution.\n",
      "\n",
      "--- Dummy APK 2 ---\n",
      "Probability Fake: 98.37%\n",
      "Explanations: ['High entropy contributes to fake prediction', 'High suspicious_strings contributes to fake prediction', 'High ip_count contributes to fake prediction', 'High dangerous_permissions contributes to fake prediction', 'High perm_dangerous_count contributes to fake prediction', 'High perm_custom_count contributes to fake prediction']\n",
      "Recommendation: Uninstall immediately. Do not enter credentials.\n",
      "\n",
      "--- Dummy APK 3 ---\n",
      "Probability Fake: 32.47%\n",
      "Explanations: ['High permissions_score contributes to fake prediction', 'High cert_mismatch contributes to fake prediction', 'High icon_similarity contributes to fake prediction', 'High url_count contributes to fake prediction', 'High perm_dangerous_count contributes to fake prediction', 'High perm_normal_count contributes to fake prediction']\n",
      "Recommendation: Likely safe, but exercise caution.\n",
      "\n",
      "--- Dummy APK 4 ---\n",
      "Probability Fake: 32.73%\n",
      "Explanations: ['High permissions_score contributes to fake prediction', 'High cert_mismatch contributes to fake prediction', 'High icon_similarity contributes to fake prediction', 'High url_count contributes to fake prediction', 'High perm_dangerous_count contributes to fake prediction', 'High perm_normal_count contributes to fake prediction']\n",
      "Recommendation: Likely safe, but exercise caution.\n",
      "\n",
      "--- Dummy APK 5 ---\n",
      "Probability Fake: 99.50%\n",
      "Explanations: ['High entropy contributes to fake prediction', 'High suspicious_strings contributes to fake prediction', 'High ip_count contributes to fake prediction', 'High dangerous_permissions contributes to fake prediction', 'High perm_dangerous_count contributes to fake prediction', 'High perm_custom_count contributes to fake prediction']\n",
      "Recommendation: Uninstall immediately. Do not enter credentials.\n",
      "\n",
      "--- Dummy APK 6 ---\n",
      "Probability Fake: 4.64%\n",
      "Explanations: ['High permissions_score contributes to fake prediction', 'High cert_mismatch contributes to fake prediction', 'High icon_similarity contributes to fake prediction', 'High url_count contributes to fake prediction', 'High perm_dangerous_count contributes to fake prediction', 'High perm_normal_count contributes to fake prediction']\n",
      "Recommendation: Likely safe, but exercise caution.\n",
      "\n",
      "--- Dummy APK 7 ---\n",
      "Probability Fake: 95.96%\n",
      "Explanations: ['High permissions_score contributes to fake prediction', 'High suspicious_strings contributes to fake prediction', 'High ip_count contributes to fake prediction', 'High dangerous_permissions contributes to fake prediction', 'High perm_dangerous_count contributes to fake prediction', 'High perm_custom_count contributes to fake prediction']\n",
      "Recommendation: Uninstall immediately. Do not enter credentials.\n",
      "\n",
      "--- Dummy APK 8 ---\n",
      "Probability Fake: 0.49%\n",
      "Explanations: ['High permissions_score contributes to fake prediction', 'High cert_mismatch contributes to fake prediction', 'High icon_similarity contributes to fake prediction', 'High url_count contributes to fake prediction', 'High cert_trusted_match contributes to fake prediction', 'High perm_normal_count contributes to fake prediction']\n",
      "Recommendation: Likely safe, but exercise caution.\n",
      "\n",
      "--- Dummy APK 9 ---\n",
      "Probability Fake: 99.42%\n",
      "Explanations: ['High entropy contributes to fake prediction', 'High suspicious_strings contributes to fake prediction', 'High ip_count contributes to fake prediction', 'High dangerous_permissions contributes to fake prediction', 'High perm_dangerous_count contributes to fake prediction', 'High perm_custom_count contributes to fake prediction']\n",
      "Recommendation: Uninstall immediately. Do not enter credentials.\n",
      "\n",
      "--- Dummy APK 10 ---\n",
      "Probability Fake: 3.14%\n",
      "Explanations: ['High permissions_score contributes to fake prediction', 'High cert_mismatch contributes to fake prediction', 'High icon_similarity contributes to fake prediction', 'High url_count contributes to fake prediction', 'High cert_trusted_match contributes to fake prediction', 'High perm_normal_count contributes to fake prediction']\n",
      "Recommendation: Likely safe, but exercise caution.\n"
     ]
    }
   ],
   "source": [
    "\n",
    "for i, apk in enumerate(dummy_apks):\n",
    "    # Keep feature names\n",
    "    X_input = pd.DataFrame([apk], columns=features)\n",
    "    X_scaled_input = scaler.transform(X_input)\n",
    "\n",
    "    prob_fake = clf.predict_proba(X_scaled_input)[0][1] * 100\n",
    "    shap_vals = explainer.shap_values(X_scaled_input)\n",
    "\n",
    "    # Handle binary-class shap output\n",
    "    shap_for_class1 = shap_vals[1] if isinstance(shap_vals, list) and len(shap_vals)==2 else shap_vals\n",
    "\n",
    "    shap_values_sample = shap_for_class1[0].flatten()  # 1D array for features\n",
    "\n",
    "    explanations = []\n",
    "    for j, f in enumerate(features):\n",
    "        if shap_values_sample[j] > 0:\n",
    "            explanations.append(f\"High {f} contributes to fake prediction\")\n",
    "\n",
    "    recommendation = \"Uninstall immediately. Do not enter credentials.\" if prob_fake > 50 else \"Likely safe, but exercise caution.\"\n",
    "\n",
    "    print(f\"\\n--- Dummy APK {i+1} ---\")\n",
    "    print(f\"Probability Fake: {prob_fake:.2f}%\")\n",
    "    print(\"Explanations:\", explanations)\n",
    "    print(\"Recommendation:\", recommendation)\n"
   ]
  },
  {
   "cell_type": "code",
   "execution_count": null,
   "id": "9b391aa4-9730-45fa-a3d9-18cf23fb59a5",
   "metadata": {},
   "outputs": [],
   "source": []
  }
 ],
 "metadata": {
  "kernelspec": {
   "display_name": "Python 3 (ipykernel)",
   "language": "python",
   "name": "python3"
  },
  "language_info": {
   "codemirror_mode": {
    "name": "ipython",
    "version": 3
   },
   "file_extension": ".py",
   "mimetype": "text/x-python",
   "name": "python",
   "nbconvert_exporter": "python",
   "pygments_lexer": "ipython3",
   "version": "3.11.5"
  }
 },
 "nbformat": 4,
 "nbformat_minor": 5
}
